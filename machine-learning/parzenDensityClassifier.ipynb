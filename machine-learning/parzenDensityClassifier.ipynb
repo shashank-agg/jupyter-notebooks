{
 "cells": [
  {
   "cell_type": "code",
   "execution_count": 1,
   "metadata": {},
   "outputs": [],
   "source": [
    "import prtools as pr\n",
    "import numpy as np\n",
    "import matplotlib.pyplot as plt"
   ]
  },
  {
   "cell_type": "code",
   "execution_count": 2,
   "metadata": {},
   "outputs": [
    {
     "data": {
      "image/png": "[encoded data removed]",
      "text/plain": [
       "<Figure size 432x288 with 1 Axes>"
      ]
     },
     "metadata": {
      "needs_background": "light"
     },
     "output_type": "display_data"
    }
   ],
   "source": [
    "x = np.array([[1, 100], [2,200], [3, 101], [4, 202], [5, 103], [6, 104]])\n",
    "y=np.array([1,1,1,2,2,2]).T\n",
    "\n",
    "a = pr.prdataset(x,y)\n",
    "pr.scatterd(a)"
   ]
  },
  {
   "cell_type": "code",
   "execution_count": 3,
   "metadata": {
    "scrolled": false
   },
   "outputs": [
    {
     "name": "stderr",
     "output_type": "stream",
     "text": [
      "/home/shashank/.local/lib/python3.6/site-packages/ipykernel_launcher.py:20: RuntimeWarning: divide by zero encountered in log\n"
     ]
    },
    {
     "data": {
      "text/plain": [
       "<matplotlib.collections.PathCollection at 0x7ff9245d9080>"
      ]
     },
     "execution_count": 3,
     "metadata": {},
     "output_type": "execute_result"
    },
    {
     "data": {
      "image/png": "[encoded data removed]",
      "text/plain": [
       "<Figure size 432x288 with 1 Axes>"
      ]
     },
     "metadata": {
      "needs_background": "light"
     },
     "output_type": "display_data"
    }
   ],
   "source": [
    "a = pr.gendats([100,100], 1 ,80)\n",
    "# print(a.targets)\n",
    "a = pr.prdataset(+a)\n",
    "\n",
    "[train, test] = pr.gendat(a, 0.5)\n",
    "\n",
    "\n",
    "# a = pr.prdataset(b)\n",
    "# p = pr.parzenm(a, 0.05)\n",
    "# pr.scatterd(a)\n",
    "# pr.plotm(p,gridsize=100)\n",
    "\n",
    "# help(pr.gendat)\n",
    "\n",
    "hs = [0.01, 0.05, 0.1,0.25, 0.5,1,1.5, 2,3,4,5]\n",
    "LL = np.zeros(len(hs))\n",
    "LL2 = np.zeros(len(hs))\n",
    "for i in range(len(hs)):\n",
    "    p = pr.parzenm(train,hs[i])\n",
    "    LL[i] = np.sum(np.log(+(test*p)))\n",
    "    LL2[i] = np.sum(np.log(+(train*p)))\n",
    "\n",
    "plt.scatter(hs,LL)\n",
    "    \n",
    "    "
   ]
  },
  {
   "cell_type": "code",
   "execution_count": 237,
   "metadata": {},
   "outputs": [
    {
     "name": "stdout",
     "output_type": "stream",
     "text": [
      "1.4000000000000001\n",
      "0.32500000000000007\n",
      "0.225\n",
      "0.175\n",
      "0.25\n",
      "0.30000000000000004\n",
      "0.35000000000000003\n",
      "1.5\n"
     ]
    }
   ],
   "source": [
    "a = pr.gendatb([200,200])\n",
    "\n",
    "s = [0.2,0.5,1.0,2.0,5.0,7.0,10.0,25]\n",
    "\n",
    "for i in s:\n",
    "     e = pr.prcrossval(a, pr.svc([],('rbf', i, 10)), k=10)\n",
    "     print(np.sum(e))"
   ]
  },
  {
   "cell_type": "code",
   "execution_count": 243,
   "metadata": {},
   "outputs": [
    {
     "name": "stdout",
     "output_type": "stream",
     "text": [
      "[0. 0. 0. 0. 0. 0. 0. 0. 0. 0.] [[0.]\n",
      " [0.]\n",
      " [0.]\n",
      " [0.]\n",
      " [0.]\n",
      " [0.]\n",
      " [0.]\n",
      " [0.]\n",
      " [0.]\n",
      " [0.]]\n"
     ]
    }
   ],
   "source": [
    "a = np.zeros(10)\n",
    "b = np.zeros((10,1))\n",
    "print(a,b)"
   ]
  }
 ],
 "metadata": {
  "kernelspec": {
   "display_name": "Python 3",
   "language": "python",
   "name": "python3"
  },
  "language_info": {
   "codemirror_mode": {
    "name": "ipython",
    "version": 3
   },
   "file_extension": ".py",
   "mimetype": "text/x-python",
   "name": "python",
   "nbconvert_exporter": "python",
   "pygments_lexer": "ipython3",
   "version": "3.6.9"
  }
 },
 "nbformat": 4,
 "nbformat_minor": 2
}
