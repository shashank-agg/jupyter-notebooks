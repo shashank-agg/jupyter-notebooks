{
 "cells": [
  {
   "cell_type": "code",
   "execution_count": 1,
   "metadata": {},
   "outputs": [
    {
     "data": {
      "text/html": [
       "<table style=\"border: 2px solid white;\">\n",
       "<tr>\n",
       "<td style=\"vertical-align: top; border: 0px solid white\">\n",
       "<h3 style=\"text-align: left;\">Client</h3>\n",
       "<ul style=\"text-align: left; list-style: none; margin: 0; padding: 0;\">\n",
       "  <li><b>Scheduler: </b>tcp://127.0.0.1:40913</li>\n",
       "  <li><b>Dashboard: </b><a href='http://127.0.0.1:8787/status' target='_blank'>http://127.0.0.1:8787/status</a>\n",
       "</ul>\n",
       "</td>\n",
       "<td style=\"vertical-align: top; border: 0px solid white\">\n",
       "<h3 style=\"text-align: left;\">Cluster</h3>\n",
       "<ul style=\"text-align: left; list-style:none; margin: 0; padding: 0;\">\n",
       "  <li><b>Workers: </b>4</li>\n",
       "  <li><b>Cores: </b>8</li>\n",
       "  <li><b>Memory: </b>8.07 GB</li>\n",
       "</ul>\n",
       "</td>\n",
       "</tr>\n",
       "</table>"
      ],
      "text/plain": [
       "<Client: 'tcp://127.0.0.1:40913' processes=4 threads=8, memory=8.07 GB>"
      ]
     },
     "execution_count": 1,
     "metadata": {},
     "output_type": "execute_result"
    }
   ],
   "source": [
    "from dask.distributed import Client, progress\n",
    "client = Client()\n",
    "client"
   ]
  },
  {
   "cell_type": "code",
   "execution_count": 2,
   "metadata": {},
   "outputs": [],
   "source": [
    "import time\n",
    "import random\n",
    "import dask\n",
    "from distributed.worker import logger\n",
    "\n",
    "def inc(x):\n",
    "    time.sleep(1)\n",
    "    return x + 1\n",
    "\n",
    "def dec(x):\n",
    "    time.sleep(1)\n",
    "    return x - 1\n",
    "\n",
    "def add(x, y):\n",
    "    time.sleep(2)\n",
    "    return x + y\n",
    "\n",
    "inc = dask.delayed(inc)\n",
    "dec = dask.delayed(dec)\n",
    "add = dask.delayed(add)"
   ]
  },
  {
   "cell_type": "code",
   "execution_count": 3,
   "metadata": {},
   "outputs": [
    {
     "name": "stdout",
     "output_type": "stream",
     "text": [
      "CPU times: user 5.55 ms, sys: 555 µs, total: 6.1 ms\n",
      "Wall time: 4.88 ms\n"
     ]
    }
   ],
   "source": [
    "%%time\n",
    "zs = []\n",
    "for i in range(10):\n",
    "    x = inc(i)\n",
    "    y = dec(x)\n",
    "    z = add(x, y)\n",
    "    zs.append(z)"
   ]
  },
  {
   "cell_type": "code",
   "execution_count": 4,
   "metadata": {},
   "outputs": [
    {
     "name": "stdout",
     "output_type": "stream",
     "text": [
      "CPU times: user 11.9 ms, sys: 0 ns, total: 11.9 ms\n",
      "Wall time: 11.3 ms\n"
     ]
    }
   ],
   "source": [
    "%%time\n",
    "zsp = dask.persist(*zs)"
   ]
  },
  {
   "cell_type": "code",
   "execution_count": 5,
   "metadata": {},
   "outputs": [
    {
     "data": {
      "text/plain": [
       "9"
      ]
     },
     "execution_count": 5,
     "metadata": {},
     "output_type": "execute_result"
    }
   ],
   "source": [
    "zsp[4].compute()"
   ]
  },
  {
   "cell_type": "code",
   "execution_count": 6,
   "metadata": {},
   "outputs": [
    {
     "data": {
      "text/plain": [
       "{'tcp://127.0.0.1:34377': (('INFO',\n",
       "   'distributed.worker - INFO -       Start worker at:      tcp://127.0.0.1:34377'),\n",
       "  ('INFO',\n",
       "   'distributed.worker - INFO -          Listening to:      tcp://127.0.0.1:34377'),\n",
       "  ('INFO',\n",
       "   'distributed.worker - INFO - Waiting to connect to:      tcp://127.0.0.1:40913'),\n",
       "  ('INFO',\n",
       "   'distributed.worker - INFO - -------------------------------------------------'),\n",
       "  ('INFO',\n",
       "   'distributed.worker - INFO -               Threads:                          2'),\n",
       "  ('INFO',\n",
       "   'distributed.worker - INFO -                Memory:                    2.02 GB'),\n",
       "  ('INFO',\n",
       "   'distributed.worker - INFO -       Local Directory: /home/shashank/dev/jupyter-notebooks/dask-worker-space/worker-cvtk0ir1'),\n",
       "  ('INFO',\n",
       "   'distributed.worker - INFO - -------------------------------------------------'),\n",
       "  ('INFO',\n",
       "   'distributed.worker - INFO -         Registered to:      tcp://127.0.0.1:40913'),\n",
       "  ('INFO',\n",
       "   'distributed.worker - INFO - -------------------------------------------------')),\n",
       " 'tcp://127.0.0.1:35057': (('INFO',\n",
       "   'distributed.worker - INFO -       Start worker at:      tcp://127.0.0.1:35057'),\n",
       "  ('INFO',\n",
       "   'distributed.worker - INFO -          Listening to:      tcp://127.0.0.1:35057'),\n",
       "  ('INFO',\n",
       "   'distributed.worker - INFO - Waiting to connect to:      tcp://127.0.0.1:40913'),\n",
       "  ('INFO',\n",
       "   'distributed.worker - INFO - -------------------------------------------------'),\n",
       "  ('INFO',\n",
       "   'distributed.worker - INFO -               Threads:                          2'),\n",
       "  ('INFO',\n",
       "   'distributed.worker - INFO -                Memory:                    2.02 GB'),\n",
       "  ('INFO',\n",
       "   'distributed.worker - INFO -       Local Directory: /home/shashank/dev/jupyter-notebooks/dask-worker-space/worker-w9gc9dxw'),\n",
       "  ('INFO',\n",
       "   'distributed.worker - INFO - -------------------------------------------------'),\n",
       "  ('INFO',\n",
       "   'distributed.worker - INFO -         Registered to:      tcp://127.0.0.1:40913'),\n",
       "  ('INFO',\n",
       "   'distributed.worker - INFO - -------------------------------------------------')),\n",
       " 'tcp://127.0.0.1:42369': (('INFO',\n",
       "   'distributed.worker - INFO -       Start worker at:      tcp://127.0.0.1:42369'),\n",
       "  ('INFO',\n",
       "   'distributed.worker - INFO -          Listening to:      tcp://127.0.0.1:42369'),\n",
       "  ('INFO',\n",
       "   'distributed.worker - INFO - Waiting to connect to:      tcp://127.0.0.1:40913'),\n",
       "  ('INFO',\n",
       "   'distributed.worker - INFO - -------------------------------------------------'),\n",
       "  ('INFO',\n",
       "   'distributed.worker - INFO -               Threads:                          2'),\n",
       "  ('INFO',\n",
       "   'distributed.worker - INFO -                Memory:                    2.02 GB'),\n",
       "  ('INFO',\n",
       "   'distributed.worker - INFO -       Local Directory: /home/shashank/dev/jupyter-notebooks/dask-worker-space/worker-wmgox2w9'),\n",
       "  ('INFO',\n",
       "   'distributed.worker - INFO - -------------------------------------------------'),\n",
       "  ('INFO',\n",
       "   'distributed.worker - INFO -         Registered to:      tcp://127.0.0.1:40913'),\n",
       "  ('INFO',\n",
       "   'distributed.worker - INFO - -------------------------------------------------')),\n",
       " 'tcp://127.0.0.1:42467': (('INFO',\n",
       "   'distributed.worker - INFO -       Start worker at:      tcp://127.0.0.1:42467'),\n",
       "  ('INFO',\n",
       "   'distributed.worker - INFO -          Listening to:      tcp://127.0.0.1:42467'),\n",
       "  ('INFO',\n",
       "   'distributed.worker - INFO - Waiting to connect to:      tcp://127.0.0.1:40913'),\n",
       "  ('INFO',\n",
       "   'distributed.worker - INFO - -------------------------------------------------'),\n",
       "  ('INFO',\n",
       "   'distributed.worker - INFO -               Threads:                          2'),\n",
       "  ('INFO',\n",
       "   'distributed.worker - INFO -                Memory:                    2.02 GB'),\n",
       "  ('INFO',\n",
       "   'distributed.worker - INFO -       Local Directory: /home/shashank/dev/jupyter-notebooks/dask-worker-space/worker-qbitnc_b'),\n",
       "  ('INFO',\n",
       "   'distributed.worker - INFO - -------------------------------------------------'),\n",
       "  ('INFO',\n",
       "   'distributed.worker - INFO -         Registered to:      tcp://127.0.0.1:40913'),\n",
       "  ('INFO',\n",
       "   'distributed.worker - INFO - -------------------------------------------------'))}"
      ]
     },
     "execution_count": 6,
     "metadata": {},
     "output_type": "execute_result"
    }
   ],
   "source": [
    "client.get_worker_logs()"
   ]
  },
  {
   "cell_type": "code",
   "execution_count": 81,
   "metadata": {},
   "outputs": [
    {
     "data": {
      "text/html": [
       "<table style=\"border: 2px solid white;\">\n",
       "<tr>\n",
       "<td style=\"vertical-align: top; border: 0px solid white\">\n",
       "<h3 style=\"text-align: left;\">Client</h3>\n",
       "<ul style=\"text-align: left; list-style: none; margin: 0; padding: 0;\">\n",
       "  <li><b>Scheduler: </b>tcp://127.0.0.1:39015</li>\n",
       "  <li><b>Dashboard: </b><a href='http://127.0.0.1:8787/status' target='_blank'>http://127.0.0.1:8787/status</a>\n",
       "</ul>\n",
       "</td>\n",
       "<td style=\"vertical-align: top; border: 0px solid white\">\n",
       "<h3 style=\"text-align: left;\">Cluster</h3>\n",
       "<ul style=\"text-align: left; list-style:none; margin: 0; padding: 0;\">\n",
       "  <li><b>Workers: </b>4</li>\n",
       "  <li><b>Cores: </b>8</li>\n",
       "  <li><b>Memory: </b>8.07 GB</li>\n",
       "</ul>\n",
       "</td>\n",
       "</tr>\n",
       "</table>"
      ],
      "text/plain": [
       "<Client: 'tcp://127.0.0.1:39015' processes=4 threads=8, memory=8.07 GB>"
      ]
     },
     "execution_count": 81,
     "metadata": {},
     "output_type": "execute_result"
    }
   ],
   "source": [
    "client.restart()"
   ]
  }
 ],
 "metadata": {
  "kernelspec": {
   "display_name": "Python 3",
   "language": "python",
   "name": "python3"
  },
  "language_info": {
   "codemirror_mode": {
    "name": "ipython",
    "version": 3
   },
   "file_extension": ".py",
   "mimetype": "text/x-python",
   "name": "python",
   "nbconvert_exporter": "python",
   "pygments_lexer": "ipython3",
   "version": "3.6.9"
  }
 },
 "nbformat": 4,
 "nbformat_minor": 2
}
